{
  "nbformat": 4,
  "nbformat_minor": 0,
  "metadata": {
    "colab": {
      "name": "PFC1-MPMGA.ipynb",
      "provenance": [],
      "authorship_tag": "ABX9TyPcO0FQwT8DrtqCnWPu5kbn",
      "include_colab_link": true
    },
    "kernelspec": {
      "name": "python3",
      "display_name": "Python 3"
    },
    "language_info": {
      "name": "python"
    }
  },
  "cells": [
    {
      "cell_type": "markdown",
      "metadata": {
        "id": "view-in-github",
        "colab_type": "text"
      },
      "source": [
        "<a href=\"https://colab.research.google.com/github/larax2do/RE-MPMGA/blob/main/PFC1_MPMGA.ipynb\" target=\"_parent\"><img src=\"https://colab.research.google.com/assets/colab-badge.svg\" alt=\"Open In Colab\"/></a>"
      ]
    },
    {
      "cell_type": "markdown",
      "source": [
        "# [Re] Multi-population migration genetic algorithm MPMGA\n",
        "\n",
        "Trabajo realizado para el curso de Proyecto Final de Carrera I de la carrera de Ciencia de la computacion de la Universidad Nacion de San Agustin de Arequipa\n",
        "\n",
        "Asesora: Dra Jeaneth Machicao"
      ],
      "metadata": {
        "id": "WvV1EnwhlRKp"
      }
    },
    {
      "cell_type": "markdown",
      "source": [
        "## Librerias"
      ],
      "metadata": {
        "id": "nJJNc2eTlUNA"
      }
    },
    {
      "cell_type": "code",
      "execution_count": 170,
      "metadata": {
        "id": "lWr705xLlIlb"
      },
      "outputs": [],
      "source": [
        "import numpy as np\n",
        "import matplotlib.pyplot as plt\n",
        "import random\n",
        "import math\n",
        "import statistics\n",
        "import datetime"
      ]
    },
    {
      "cell_type": "markdown",
      "source": [
        "## Cromosoma"
      ],
      "metadata": {
        "id": "ArWJ-iT5mHnP"
      }
    },
    {
      "cell_type": "code",
      "source": [
        "class Cromosoma:\n",
        "  def __init__(self,g,f):\n",
        "    self.genes=g\n",
        "    self.fitnes=f"
      ],
      "metadata": {
        "id": "HvW5TGXSmJ1Y"
      },
      "execution_count": 171,
      "outputs": []
    },
    {
      "cell_type": "markdown",
      "source": [
        "### Funciones de ayuda "
      ],
      "metadata": {
        "id": "CdqTU70tstjh"
      }
    },
    {
      "cell_type": "code",
      "source": [
        "def numero_de(x,y,N):\n",
        "  return ((x)+(y)*N)\n",
        "def cordenada_de(p,N):\n",
        "  return ((p%N)),int(np.floor(p/N))"
      ],
      "metadata": {
        "id": "SX2y4DUMsyvR"
      },
      "execution_count": 172,
      "outputs": []
    },
    {
      "cell_type": "markdown",
      "source": [
        "## Funcion de Optimizacion"
      ],
      "metadata": {
        "id": "eH1Py-lhpxiL"
      }
    },
    {
      "cell_type": "code",
      "source": [
        "def fitness1(entrada,dim):\n",
        "  path=0\n",
        "  for i in range(len(entrada)-1):\n",
        "    x1,y1=cordenada_de(entrada[i],dim[0])\n",
        "    #print(\"x1\",x1)\n",
        "    #print(\"y1\",y1)\n",
        "    x2,y2=cordenada_de(entrada[i+1],dim[0])\n",
        "    #print(\"x2\",x2)\n",
        "    #print(\"y2\",y2)\n",
        "    #print(\"agregado:\",math.sqrt(((x2-x1)**2)+((y2-y1)**2)))\n",
        "    path+=math.sqrt(((x2-x1)**2)+((y2-y1)**2))\n",
        "  #print(\"print final: \",path)\n",
        "  return 1/path\n",
        "\n",
        "def fitness2(entrada,dim):\n",
        "  smoothness=0\n",
        "  for i in range(1,len(entrada)-1):\n",
        "    x0,y0=cordenada_de(entrada[i-1],dim[0])\n",
        "    x1,y1=cordenada_de(entrada[i],dim[0])\n",
        "    x2,y2=cordenada_de(entrada[i+1],dim[0])\n",
        "    k1=((y1-y0)/(x1-x0)) if x1!=x0 else \"INFINITO\" \n",
        "    k2=((y2-y1)/(x2-x1)) if x2!=x1 else \"INFINITO\" \n",
        "    if not ((k1==\"INFINITO\" and k2==\"INFINITO\") or  (k1==k2 and k1!=\"INFINITO\" and k2!=\"INFINITO\")):\n",
        "      a1=((x0-x1)**2)+((y0-y1)**2)\n",
        "      b1=((x2-x1)**2)+((y2-y1)**2)\n",
        "      c1=((x0-x2)**2)+((y0-y2)**2)\n",
        "      a=math.sqrt(a1)\n",
        "      b=math.sqrt(b1)\n",
        "      c=math.sqrt(c1)\n",
        "      di=(a1+b1-c1)/(2*a*b)\n",
        "      alpha_i=math.acos(di)\n",
        "      tetha_i=math.pi-alpha_i\n",
        "      smoothness+=0 if tetha_i==0 else 5 if 0<tetha_i and tetha_i<math.pi/2 else 25 if tetha_i==math.pi/2 else 125 if tetha_i>math.pi/2 else 0\n",
        "  return 1/smoothness\n",
        "\n",
        "def fitness(entrada,a,b,dim):\n",
        "  return a*fitness1(entrada,dim)+b*fitness2(entrada,dim)\n",
        "\n",
        "def fitness_detallado(entrada,a,b,dim):\n",
        "  f1=fitness1(entrada,dim)\n",
        "  f2=fitness2(entrada,dim)\n",
        "  print(\"Path: \",f1**-1)\n",
        "  print(\"Smoothness: \",f2**-1)\n",
        "  print(\"fitnes Total: \",a*fitness1(entrada,dim)+b*fitness2(entrada,dim))\n",
        "  "
      ],
      "metadata": {
        "id": "ZtwZEVaHp0fs"
      },
      "execution_count": 173,
      "outputs": []
    },
    {
      "cell_type": "markdown",
      "source": [
        "## Generacion de Poblacion Inicial"
      ],
      "metadata": {
        "id": "m1NxmEBnm2F-"
      }
    },
    {
      "cell_type": "code",
      "source": [
        "# Retorna valores de cuadricula de las cuadriculas colindantes\n",
        "def adyacentes(a,dim):\n",
        "  add=[a-1,a+1,a+dim[0],a-dim[0],a+dim[0]+1,a+dim[0]-1,a-dim[0]+1,a-dim[0]-1]\n",
        "  return [i  for i in add if (i>-1 and i<numero_de(dim[0],dim[1],dim[0])+1)and(i%dim[0]==(a%dim[0])+1 or i%dim[0]==(a%dim[0])-1 or i%dim[0]==(a%dim[0]))]\n",
        "\n",
        "# Verifica si dos cuadriculas son colindantes\n",
        "def verificacion(a,b,dim):\n",
        "  if a in adyacentes(b,dim):\n",
        "    return True\n",
        "  return False\n",
        "\n",
        "# Calcula el punto medio entre dos cuadriculas\n",
        "def valor_medio(entrada,dim):\n",
        "  x1,y1=cordenada_de(entrada[0],dim[0])\n",
        "\n",
        "  x2,y2=cordenada_de(entrada[1],dim[0])\n",
        "\n",
        "  return numero_de((x1+x2)//2,(y1+y2)//2,dim[0])\n",
        "\n",
        "# Operador de Conexion\n",
        "def conexion(map,entrada,dim):\n",
        "  #print(\"conexion de: \",entrada)\n",
        "  if verificacion(entrada[0],entrada[1],dim):#sospechoso\n",
        "    return entrada\n",
        "  else:\n",
        "    intermedio=valor_medio(entrada,dim)\n",
        "    while intermedio in map or (intermedio==entrada[0] or intermedio==entrada[1]):\n",
        "      vecinos=[ i for i in adyacentes(intermedio,dim) if i not in map]\n",
        "      if len(vecinos) ==0:\n",
        "        vecinos=adyacentes(intermedio,dim)\n",
        "      intermedio=random.choice(vecinos)\n",
        "    parte1=conexion(map,[entrada[0],intermedio],dim)\n",
        "    parte2=conexion(map,[intermedio,entrada[1]],dim)\n",
        "    return parte1+parte2\n",
        "\n",
        "# Operador de Eliminacion, quita los caminos circulares\n",
        "def quitar_caminos_circulares(entrada):\n",
        "  pila=[]\n",
        "  for i in entrada:\n",
        "    if i not in pila:\n",
        "      pila.append(i)\n",
        "    else:\n",
        "      while(i in pila):\n",
        "        pila.pop()\n",
        "      pila.append(i)\n",
        "  return pila\n",
        "\n",
        "def crearCISB(map,ini,dim):\n",
        "  #print(abs(cordenada_de(ini[0],dim[0])[0]-cordenada_de(ini[1],dim[0])[0]))\n",
        "  cisb=[ini[0]]\n",
        "  for _ in range(3):\n",
        "    tempx=random.randint(0,dim[0]-1)\n",
        "    tempy=random.randint(0,dim[1]-1)\n",
        "    temp=numero_de(tempx,tempy,dim[0])\n",
        "    while temp in map:\n",
        "      tempx=random.randint(0,dim[0]-1)\n",
        "      tempy=random.randint(0,dim[1]-1)\n",
        "      temp=numero_de(tempx,tempy,dim[0])\n",
        "    cisb.append(temp)\n",
        "  cisb.append(ini[1])\n",
        "  return cisb\n",
        "\n",
        "# Crea un cromosoma, con una solucion\n",
        "def crear_individuo(map,ini,dim,a,b):\n",
        "  inicial=crearCISB(map,ini,dim)\n",
        "  #print(\"inicial\",inicial)\n",
        "  conexo=[]\n",
        "  for i in range(0,len(inicial)-1):\n",
        "    conexo=conexo+conexion(map,[inicial[i],inicial[i+1]],dim)\n",
        "  #conexo=conexion(map,ini,dim)\n",
        "  limpio=quitar_caminos_circulares(conexo)\n",
        "  fit=fitness(limpio,a,b,dim)\n",
        "  return Cromosoma(limpio,fit)"
      ],
      "metadata": {
        "id": "HEuYJaoSm0j_"
      },
      "execution_count": 174,
      "outputs": []
    },
    {
      "cell_type": "markdown",
      "source": [
        "## Graficador"
      ],
      "metadata": {
        "id": "WkgG0Zdbo01d"
      }
    },
    {
      "cell_type": "code",
      "source": [
        "def plotear(mapa,camino,dim):\n",
        "  xs=[]\n",
        "  ys=[]\n",
        "  for i in range(-1,dim[0]+1):\n",
        "    xs.append(i)\n",
        "    ys.append(-1)\n",
        "  for i in range(-1,dim[0]+1):\n",
        "    xs.append(i)\n",
        "    ys.append(dim[1])\n",
        "  for i in range(-1,dim[1]+1):\n",
        "    xs.append(-1)\n",
        "    ys.append(i)\n",
        "  for i in range(-1,dim[1]+1):\n",
        "    xs.append(dim[1])\n",
        "    ys.append(i)\n",
        "  plt.grid(True)\n",
        "  plt.axis(\"equal\")\n",
        "  plt.plot(xs,ys,\"sk\",markersize=6)\n",
        "  for i in mapa:\n",
        "    x,y=cordenada_de(i,dim[0])\n",
        "    plt.plot(x,y,\"sk\",markersize=6)\n",
        "  cmapa=[]\n",
        "  for i in camino:\n",
        "    cmapa.append(cordenada_de(i,dim[0]))\n",
        "  test=list(zip(*cmapa))\n",
        "  print(test)\n",
        "  plt.plot(test[0],test[1])\n",
        "  plt.show()"
      ],
      "metadata": {
        "id": "3YMX_4XIo0M-"
      },
      "execution_count": 175,
      "outputs": []
    },
    {
      "cell_type": "markdown",
      "source": [
        "## Operadores AG"
      ],
      "metadata": {
        "id": "KaZZ6xFTpYQs"
      }
    },
    {
      "cell_type": "markdown",
      "source": [
        "### Seleccion Ruleta"
      ],
      "metadata": {
        "id": "RXZSnEdBqevE"
      }
    },
    {
      "cell_type": "code",
      "source": [
        "def crearRuleta(populacho):\n",
        "\n",
        "  acumulada=[f.fitnes for f in populacho]\n",
        "  suma=sum(acumulada)\n",
        "  acu=0\n",
        "  for i in range(len(acumulada)):\n",
        "    acu=acu+acumulada[i]/suma\n",
        "    acumulada[i]=acu\n",
        "  return acumulada\n",
        "def seleccionRuleta(prob,populacho,numPadres):\n",
        "  padresNuevos=[]\n",
        "  padresNuevos.append(populacho[0])\n",
        "  padresNuevos.append(populacho[1])\n",
        "  for _ in range(numPadres):\n",
        "    ruleta=random.random()\n",
        "    i=0\n",
        "    while (prob[i]<ruleta):\n",
        "      i=i+1\n",
        "    padresNuevos.append(populacho[i])\n",
        "  return padresNuevos"
      ],
      "metadata": {
        "id": "c7SluplHqjNM"
      },
      "execution_count": 176,
      "outputs": []
    },
    {
      "cell_type": "markdown",
      "source": [
        "### Operador de cruzamiento"
      ],
      "metadata": {
        "id": "UPmk9OH5pgK9"
      }
    },
    {
      "cell_type": "code",
      "source": [
        "def crossover(padreA,padreB,a,b,dim):\n",
        "  iguales=[]\n",
        "  iguales_i=[]\n",
        "  for i in padreB.genes:\n",
        "    if i in padreA.genes:\n",
        "      iguales.append(i)\n",
        "  punto=random.choice(iguales)\n",
        "  p_a=padreA.genes.index(punto)\n",
        "  p_b=padreB.genes.index(punto)\n",
        "  hijo1= padreA.genes[:p_a]+padreB.genes[p_b:]\n",
        "  hijo2= padreB.genes[:p_b]+padreA.genes[p_a:]\n",
        "  return Cromosoma(hijo1,fitness(hijo1,a,b,dim)),Cromosoma(hijo2,fitness(hijo2,a,b,dim))"
      ],
      "metadata": {
        "id": "uJxQzTtqpcm8"
      },
      "execution_count": 177,
      "outputs": []
    },
    {
      "cell_type": "markdown",
      "source": [
        "### Operador de Mutacion"
      ],
      "metadata": {
        "id": "9fY1_FF0pjek"
      }
    },
    {
      "cell_type": "code",
      "source": [
        "def mutacion(victima,mapa,dim,a,b):\n",
        "  t_mutacion=random.randint(1,len(victima.genes)-2)\n",
        "  i_mutacion=random.randint(1,len(victima.genes)-t_mutacion-1)\n",
        "  temp=quitar_caminos_circulares(victima.genes[:i_mutacion-1]+conexion(mapa,[victima.genes[i_mutacion-1],victima.genes[i_mutacion+t_mutacion]],dim)+victima.genes[i_mutacion+t_mutacion:])\n",
        "  return Cromosoma(temp,fitness(temp,a,b,dim))"
      ],
      "metadata": {
        "id": "ApUXcAgFpnDc"
      },
      "execution_count": 178,
      "outputs": []
    },
    {
      "cell_type": "markdown",
      "source": [
        "## Operadores de MPMGA"
      ],
      "metadata": {
        "id": "kEex9NaypLZ9"
      }
    },
    {
      "cell_type": "markdown",
      "source": [
        "### Operador de migracion"
      ],
      "metadata": {
        "id": "wLEJD8CGpTEV"
      }
    },
    {
      "cell_type": "code",
      "source": [
        "def migracion(populachoA,populachoB,populachoC):\n",
        "  A=sorted(populachoA,key=lambda x:-x.fitnes)\n",
        "  eliminado1=A.pop()\n",
        "  eliminado2=A.pop()\n",
        "  B=sorted(populachoB,key=lambda x:-x.fitnes)\n",
        "  asendido1=B[0]\n",
        "  B=B[1:]\n",
        "  C=sorted(populachoC,key=lambda x:-x.fitnes)\n",
        "  asendido2=C[0]\n",
        "  C=C[1:]\n",
        "  \n",
        "  A.append(asendido1)\n",
        "  A.append(asendido2)\n",
        "  B.append(eliminado1)\n",
        "  C.append(eliminado2)\n",
        "\n",
        "  return A,B,C"
      ],
      "metadata": {
        "id": "pTPdQCYhpAhc"
      },
      "execution_count": 179,
      "outputs": []
    },
    {
      "cell_type": "markdown",
      "source": [
        "## Funcion principal"
      ],
      "metadata": {
        "id": "61R-Hgh8rg8r"
      }
    },
    {
      "cell_type": "code",
      "source": [
        "def experimento(mapa,dim,ini):\n",
        "  startTime = datetime.datetime.now() \n",
        "  num_poblacion=60\n",
        "  sub_poblacion=30\n",
        "  cross_alto=0.8\n",
        "  cross_bajo=0.1\n",
        "  muta_alto=0.8\n",
        "  muta_bajo=0.1\n",
        "  alpha=0.8\n",
        "  beta=0.2\n",
        "  temperaturaInicial=1\n",
        "  temperatura_decaimiento=0.7\n",
        "\n",
        "\n",
        "\n",
        "\n",
        "  random.seed()\n",
        "  populachoA=[crear_individuo(mapa,ini,dim,alpha,beta) for i in range(sub_poblacion)]\n",
        "  populachoB=[crear_individuo(mapa,ini,dim,alpha,beta) for i in range(sub_poblacion)]\n",
        "  populachoC=[crear_individuo(mapa,ini,dim,alpha,beta) for i in range(sub_poblacion)]\n",
        "\n",
        "  populachoS=populachoA+populachoB+populachoC\n",
        "  \n",
        "  print(\"Tiempo de generacion de poblacion inicial\")\n",
        "  timeDiff = datetime.datetime.now() - startTime\n",
        "  print(timeDiff)\n",
        "  startTime = datetime.datetime.now() \n",
        "  \n",
        "  #for i in populachoA:\n",
        "  #  plotear(mapa,i.genes,dim)\n",
        "  #  plt.show()\n",
        "  #  fitness_detallado(i.genes,alpha,beta,dim)\n",
        "\n",
        "  print(\"inicio MPMGA----------------------------\")\n",
        "\n",
        "  fits=[]\n",
        "  fit_completo1=[]\n",
        "  fit_completo2=[]\n",
        "  for generacion in range(200):\n",
        "    populachoA,populachoB,populachoC=migracion(populachoA,populachoB,populachoC)\n",
        "    \n",
        "\n",
        "    #for i in populachoA:\n",
        "      #plotear(mapa,i.genes)\n",
        "      #plt.show()\n",
        "\n",
        "    # Poblacion A\n",
        "    #print(\"generacion---\",generacion)\n",
        "    ruletaA=crearRuleta(populachoA)\n",
        "    seleccionadosA=seleccionRuleta(ruletaA,populachoA,sub_poblacion)\n",
        "    seleccionadosA=sorted(seleccionadosA,key=lambda x:-x.fitnes)\n",
        "    for i in range(2,sub_poblacion,2):\n",
        "      posibilidad=random.random()\n",
        "      if posibilidad<cross_bajo:\n",
        "        #print(\"cross en la poblacion Elite\")\n",
        "        x,y=crossover(seleccionadosA[i],seleccionadosA[i+1],alpha,beta,dim)\n",
        "        if(seleccionadosA[i].fitnes<x.fitnes):\n",
        "          seleccionadosA[i]=x\n",
        "        if(seleccionadosA[i+1].fitnes<y.fitnes):\n",
        "          seleccionadosA[i+1]=y\n",
        "    seleccionadosA=sorted(seleccionadosA,key=lambda x:-x.fitnes)\n",
        "    for i in range(2,sub_poblacion):\n",
        "      posibilidad=random.random()\n",
        "      if(posibilidad<muta_bajo):\n",
        "        #print(\"Mutacion en la poblacion Elite\")\n",
        "        temp=mutacion(seleccionadosA[i],mapa,dim,alpha,beta)\n",
        "        if temp.fitnes>seleccionadosA[i].fitnes:\n",
        "          seleccionadosA[i]=temp\n",
        "        else:\n",
        "          temperatura=temperaturaInicial*(temperatura_decaimiento**generacion)\n",
        "          valor_a=(seleccionadosA[i].fitnes-temp.fitnes)/temperatura\n",
        "          valor_a=valor_a if valor_a<700 else 700\n",
        "          #print(\"a: \",valor_a)\n",
        "          alea=random.random()\n",
        "          if alea<1/(1+math.exp(round(valor_a,2))):\n",
        "            seleccionadosA[i]=temp\n",
        "    populachoA=seleccionadosA\n",
        "\n",
        "\n",
        "    # Poblacion B\n",
        "    ruletaB=crearRuleta(populachoB)\n",
        "    seleccionadosB=seleccionRuleta(ruletaB,populachoB,sub_poblacion)\n",
        "    for i in range(0,sub_poblacion,2):\n",
        "      posibilidad=random.random()\n",
        "      if posibilidad<cross_alto:\n",
        "        x,y=crossover(seleccionadosB[i],seleccionadosB[i+1],alpha,beta,dim)\n",
        "        if(seleccionadosB[i].fitnes<x.fitnes):\n",
        "          seleccionadosB[i]=x\n",
        "        if(seleccionadosB[i+1].fitnes<y.fitnes):\n",
        "          seleccionadosB[i+1]=y\n",
        "    for i in range(sub_poblacion):\n",
        "      posibilidad=random.random()\n",
        "      if(posibilidad<muta_bajo):\n",
        "        temp=mutacion(seleccionadosB[i],mapa,dim,alpha,beta)\n",
        "        if temp.fitnes>seleccionadosB[i].fitnes:\n",
        "          seleccionadosB[i]=temp\n",
        "    populachoB=seleccionadosB\n",
        "\n",
        "    # Poblacion C\n",
        "    ruletaC=crearRuleta(populachoC)\n",
        "    seleccionadosC=seleccionRuleta(ruletaC,populachoC,sub_poblacion)\n",
        "    for i in range(0,sub_poblacion,2):\n",
        "      posibilidad=random.random()\n",
        "      if posibilidad<cross_bajo:\n",
        "        x,y=crossover(seleccionadosC[i],seleccionadosC[i+1],alpha,beta,dim)\n",
        "        if(seleccionadosC[i].fitnes<x.fitnes):\n",
        "          seleccionadosC[i]=x\n",
        "        if(seleccionadosC[i+1].fitnes<y.fitnes):\n",
        "          seleccionadosC[i+1]=y\n",
        "    for i in range(sub_poblacion):\n",
        "      posibilidad=random.random()\n",
        "      if(posibilidad<muta_alto):\n",
        "        temp=mutacion(seleccionadosC[i],mapa,dim,alpha,beta)\n",
        "        if temp.fitnes>seleccionadosC[i].fitnes:\n",
        "          seleccionadosC[i]=temp\n",
        "    populachoC=seleccionadosC\n",
        "    \n",
        "    populachoA=sorted(populachoA,key=lambda x:-x.fitnes)\n",
        "    fits.append(populachoA[0].fitnes)\n",
        "    fit_completo1.append([i.fitnes for i in populachoA])\n",
        "\n",
        "  \n",
        "  print(\"Tiempo de MPMGA\")\n",
        "  timeDiff = datetime.datetime.now() - startTime\n",
        "  print(timeDiff)\n",
        "  startTime = datetime.datetime.now() \n",
        "\n",
        "  print(\"final MPMGA----------------------------\")\n",
        "  print(\"inicio estandar----------------------------\")\n",
        "\n",
        "\n",
        "  \n",
        "\n",
        "  fitsS=[]\n",
        "  for i in range(200):\n",
        "    ruletaS=crearRuleta(populachoS)\n",
        "    seleccionadosS=seleccionRuleta(ruletaS,populachoS,num_poblacion)\n",
        "    for i in range(0,num_poblacion,2):\n",
        "      posibilidad=random.random()\n",
        "      if posibilidad<cross_alto:\n",
        "        x,y=crossover(seleccionadosS[i],seleccionadosS[i+1],alpha,beta,dim)\n",
        "        if(seleccionadosS[i].fitnes<x.fitnes):\n",
        "          seleccionadosS[i]=x\n",
        "        if(seleccionadosS[i+1].fitnes<y.fitnes):\n",
        "          seleccionadosS[i+1]=y\n",
        "    for i in range(num_poblacion):\n",
        "      posibilidad=random.random()\n",
        "      if(posibilidad<muta_bajo):\n",
        "        temp=mutacion(seleccionadosS[i],mapa,dim,alpha,beta)\n",
        "        if temp.fitnes>seleccionadosS[i].fitnes:\n",
        "          seleccionadosS[i]=temp\n",
        "    populachoS=seleccionadosS\n",
        "\n",
        "    populachoS=sorted(populachoS,key=lambda x:-x.fitnes)\n",
        "    fitsS.append(populachoS[0].fitnes)\n",
        "    fit_completo2.append([i.fitnes for i in populachoS])\n",
        "  \n",
        "  print(\"Tiempo de SGA\")\n",
        "  timeDiff = datetime.datetime.now() - startTime\n",
        "  print(timeDiff)\n",
        "\n",
        "\n",
        "\n",
        "  plt.plot(fits,color='r',label='MPMGA')\n",
        "  plt.plot(fitsS,color='b',label='SGA')\n",
        "  plt.legend()\n",
        "  plt.title('Aptitud del mejor individuo de la poblacion a lo largo de las iteraciones')\n",
        "  plt.ylabel('Fitness')\n",
        "  plt.xlabel('Iteraciones')\n",
        "  plt.show()\n",
        "\n",
        "\n",
        "\n",
        "  ### PROMEDIO\n",
        "\n",
        "  nuevo_completo1=[statistics.mean(i) for i in fit_completo1]\n",
        "  nuevo_completo2=[statistics.mean(i) for i in fit_completo2]\n",
        "\n",
        "\n",
        "  plt.plot(nuevo_completo1,color='r',label='MPMGA')\n",
        "  plt.plot(nuevo_completo2,color='b',label='SGA')\n",
        "  plt.legend()\n",
        "  plt.title('Promedio de la aptitud de la poblacion a lo largo de las iteraciones')\n",
        "  plt.ylabel('Promedio de Fitness')\n",
        "  plt.xlabel('Iteraciones')\n",
        "  plt.show()\n",
        "\n",
        "\n",
        "\n",
        "\n",
        "\n",
        "  ### DESVIACION ESTANDARD\n",
        "\n",
        "  nuevo_completo1=[statistics.pstdev(i) for i in fit_completo1]\n",
        "  nuevo_completo2=[statistics.pstdev(i) for i in fit_completo2]\n",
        "\n",
        "\n",
        "  plt.plot(nuevo_completo1,color='r',label='MPMGA')\n",
        "  plt.plot(nuevo_completo2,color='b',label='SGA')\n",
        "  plt.legend()\n",
        "  plt.title('Desviacion estandar de la aptitud de la poblacion a lo largo de las iteraciones')\n",
        "  plt.ylabel('Desviacion estandar de Fitness')\n",
        "  plt.xlabel('Iteraciones')\n",
        "  plt.show()\n",
        "\n",
        "\n",
        "\n",
        "  #for i in populachoA:\n",
        "  #  plotear(mapa,i.genes,dim)\n",
        "  #  plt.show()\n",
        "  #  fitness_detallado(i.genes,alpha,beta,dim)\n",
        "\n",
        "\n",
        "  print(\"RESULTADO MPMGA\")\n",
        "  plotear(mapa,populachoA[0].genes,dim)\n",
        "  plt.show()\n",
        "  fitness_detallado(populachoA[0].genes,alpha,beta,dim)\n",
        "\n",
        "  print(\"RESULTADO SGA\")\n",
        "  plotear(mapa,populachoS[0].genes,dim)\n",
        "  plt.show()\n",
        "  fitness_detallado(populachoS[0].genes,alpha,beta,dim)\n"
      ],
      "metadata": {
        "id": "VRvtcdeermhK"
      },
      "execution_count": 180,
      "outputs": []
    },
    {
      "cell_type": "markdown",
      "source": [
        "# Ejecucion de experimentos"
      ],
      "metadata": {
        "id": "IN72OVE8qx6M"
      }
    },
    {
      "cell_type": "markdown",
      "source": [
        "## Mapas"
      ],
      "metadata": {
        "id": "kZ7v2Wafse0K"
      }
    },
    {
      "cell_type": "code",
      "source": [
        "# Mapa inicial\n",
        "mapa1=[numero_de(2,1,20),numero_de(2,2,20),numero_de(1,5,20),numero_de(1,6,20),numero_de(2,5,20),numero_de(2,6,20),numero_de(3,5,20),numero_de(3,6,20),numero_de(2,15,20),numero_de(2,14,20),numero_de(3,15,20),numero_de(3,14,20),numero_de(6,2,20),numero_de(7,2,20),numero_de(8,2,20),numero_de(6,3,20),numero_de(7,3,20),numero_de(8,3,20),numero_de(6,4,20),numero_de(7,4,20),numero_de(8,4,20),numero_de(6,6,20),numero_de(6,7,20),numero_de(7,6,20),numero_de(7,7,20),numero_de(8,6,20),numero_de(8,7,20),numero_de(7,10,20),numero_de(8,10,20),numero_de(7,11,20),numero_de(8,11,20),numero_de(6,15,20),numero_de(7,15,20),numero_de(8,15,20),numero_de(6,16,20),numero_de(7,16,20),numero_de(8,16,20),numero_de(10,8,20),numero_de(10,7,20),numero_de(12,7,20),numero_de(12,8,20),numero_de(13,7,20),numero_de(13,8,20),numero_de(10,10,20),numero_de(11,10,20),numero_de(12,10,20),numero_de(13,10,20),numero_de(11,12,20),numero_de(12,12,20),numero_de(13,12,20),numero_de(15,12,20),numero_de(16,12,20),numero_de(17,12,20),numero_de(18,12,20),numero_de(10,13,20),numero_de(10,14,20),numero_de(10,15,20),numero_de(10,16,20),numero_de(11,14,20),numero_de(12,14,20),numero_de(13,14,20),numero_de(14,14,20),numero_de(15,14,20),numero_de(16,14,20),numero_de(17,14,20),numero_de(18,14,20),numero_de(14,17,20),numero_de(14,18,20),numero_de(17,16,20),numero_de(17,17,20),numero_de(18,16,20),numero_de(18,17,20),numero_de(1,8,20),numero_de(2,8,20),numero_de(3,8,20)]\n",
        "# Mapa biblioteca\n",
        "mapa2=[600,601,602,603,604,605,606,607,608,609,610,611,612,613,614,615,616,617,618,619,575,579,580,583,584,587,588,591,592,550,574,525,528,531,533,535,537,539,541,543,546,549,500,501,503,521,523,524,475,476,478,481,483,485,487,489,491,493,496,498,499,450,453,471,474,425,428,431,433,435,437,439,441,443,446,449,400,401,403,421,423,424,375,376,378,381,383,385,387,389,391,393,396,398,399,350,353,371,374,325,328,331,333,335,337,339,341,343,346,349,300,301,303,321,323,324,275,276,278,281,283,285,287,289,291,293,296,298,299,250,253,271,274,225,228,231,233,235,237,239,241,243,246,249,200,201,203,221,223,224,175,176,178,181,183,185,187,189,191,193,196,198,199,150,153,171,174,125,128,131,133,135,137,139,141,143,146,149,100,101,103,121,123,124,75,76,78,81,83,85,87,89,91,93,96,98,99,50,74,25,49,0,1,2,3,4,5,6,7,8,9,15,16,17,18,19,20,21,22,23,24]\n",
        "# Mapa artificial\n",
        "624\n",
        "mapa3=[2450,2451,2452,2453,2454,2467,2468,2469,2470,2471,2472,2473,2474,2475,2476,2477,2478,2479,2400,2401,2402,2403,2404,2417,2418,2419,2420,2421,2422,2423,2424,2425,2426,2427,2428,2429,2350,2351,2352,2353,2354,2300,2301,2302,2303,2304,2340,2341,2342,2343,2344,2345,2250,2251,2252,2253,2254,2290,2291,2292,2293,2294,2295,2200,2201,2202,2203,2204,2240,2241,2242,2243,2244,2245,2190,2191,2192,2193,2194,2195,2140,2141,2142,2143,2144,2145,1953,1954,1955,1956,1957,1958,1903,1904,1905,1906,1907,1908,1853,1854,1855,1856,1857,1858,1803,1804,1805,1806,1807,1808,1753,1754,1755,1756,1757,1758,1784,1785,1786,1787,1788,1789,1790,1791,1792,1793,1794,1795,1796,1797,1798,1799,1703,1704,1705,1706,1707,1708,1714,1715,1716,1717,1718,1719,1653,1654,1655,1656,1657,1658,1664,1665,1666,1667,1668,1669,1603,1604,1605,1606,1607,1608,1614,1615,1616,1617,1618,1619,1553,1554,1555,1556,1557,1558,1564,1565,1566,1567,1568,1569,1503,1504,1505,1506,1507,1508,1514,1515,1516,1517,1518,1519,1453,1454,1455,1456,1457,1458,1464,1465,1466,1467,1468,1469,1224,1239,1240,1241,1242,1243,1244,1245,1246,1247,1248,1249,1173,1174,1189,1190,1191,1192,1193,1194,1195,1196,1197,1198,1199,1122,1123,1124,1139,1140,1141,1142,1143,1144,1145,1146,1147,1148,1149,1071,1072,1073,1074,1089,1090,1091,1092,1093,1094,1095,1096,1097,1098,1099,1020,1021,1022,1023,1024,1039,1040,1041,1042,1043,1044,1045,1046,1047,1048,1049,969,970,971,972,973,974,989,990,991,992,993,994,995,996,997,998,999,939,940,941,942,943,944,945,946,947,948,949,889,890,891,892,893,894,895,896,897,898,899,839,840,841,842,843,844,845,846,847,848,849,789,790,791,792,793,794,795,796,797,798,799,739,740,741,742,743,744,745,746,747,748,749,454,455,456,457,458,459,404,405,406,407,408,409,429,430,431,432,433,434,439,440,441,442,443,444,445,446,447,448,449,354,355,356,357,358,359,379,380,381,382,383,384,389,390,391,392,393,394,395,396,397,398,399,304,305,306,307,308,309,329,330,331,332,333,334,339,340,341,342,343,344,345,346,347,348,349,254,255,256,257,258,259,279,280,281,282,283,284,289,290,291,292,293,294,295,296,297,298,299,204,205,206,207,208,209,229,230,231,232,233,234,239,240,241,242,243,244,245,246,247,248,249,179,180,181,182,183,184,189,190,191,192,193,194,195,196,197,198,199]"
      ],
      "metadata": {
        "id": "QM6owto_qxYM"
      },
      "execution_count": 181,
      "outputs": []
    },
    {
      "cell_type": "code",
      "source": [
        "experimento(mapa2,[25,25],[10,numero_de(24,24,25)])"
      ],
      "metadata": {
        "colab": {
          "base_uri": "https://localhost:8080/",
          "height": 1000
        },
        "id": "sDkMKhr8u69I",
        "outputId": "6b693668-5257-4889-f79f-49cc616b18c2"
      },
      "execution_count": 182,
      "outputs": [
        {
          "output_type": "stream",
          "name": "stdout",
          "text": [
            "Tiempo de generacion de poblacion inicial\n",
            "0:00:01.728742\n",
            "inicio MPMGA----------------------------\n",
            "Tiempo de MPMGA\n",
            "0:00:24.444290\n",
            "final MPMGA----------------------------\n",
            "inicio estandar----------------------------\n",
            "Tiempo de SGA\n",
            "0:00:05.523068\n"
          ]
        },
        {
          "output_type": "display_data",
          "data": {
            "image/png": "[encoded data removed]",
            "text/plain": [
              "<Figure size 432x288 with 1 Axes>"
            ]
          },
          "metadata": {
            "needs_background": "light"
          }
        },
        {
          "output_type": "display_data",
          "data": {
            "image/png": "[encoded data removed]",
            "text/plain": [
              "<Figure size 432x288 with 1 Axes>"
            ]
          },
          "metadata": {
            "needs_background": "light"
          }
        },
        {
          "output_type": "display_data",
          "data": {
            "image/png": "[encoded data removed]",
            "text/plain": [
              "<Figure size 432x288 with 1 Axes>"
            ]
          },
          "metadata": {
            "needs_background": "light"
          }
        },
        {
          "output_type": "stream",
          "name": "stdout",
          "text": [
            "RESULTADO MPMGA\n",
            "[(10, 11, 12, 13, 13, 13, 13, 13, 14, 15, 16, 17, 18, 19, 20, 20, 20, 20, 20, 20, 20, 20, 21, 22, 23, 24), (0, 1, 2, 3, 4, 5, 6, 7, 8, 9, 10, 11, 12, 13, 14, 15, 16, 17, 18, 19, 20, 21, 22, 23, 23, 24)]\n"
          ]
        },
        {
          "output_type": "display_data",
          "data": {
            "image/png": "[encoded data removed]",
            "text/plain": [
              "<Figure size 432x288 with 1 Axes>"
            ]
          },
          "metadata": {
            "needs_background": "light"
          }
        },
        {
          "output_type": "stream",
          "name": "stdout",
          "text": [
            "Path:  30.384776310850242\n",
            "Smoothness:  30.0\n",
            "fitnes Total:  0.032995641144399596\n",
            "RESULTADO SGA\n",
            "[(10, 10, 10, 11, 12, 13, 13, 13, 13, 13, 13, 13, 14, 15, 16, 17, 18, 19, 19, 19, 19, 20, 21, 22, 23, 24), (0, 1, 2, 3, 4, 5, 6, 7, 8, 9, 10, 11, 12, 13, 14, 15, 16, 17, 18, 19, 20, 21, 22, 22, 23, 24)]\n"
          ]
        },
        {
          "output_type": "display_data",
          "data": {
            "image/png": "[encoded data removed]",
            "text/plain": [
              "<Figure size 432x288 with 1 Axes>"
            ]
          },
          "metadata": {
            "needs_background": "light"
          }
        },
        {
          "output_type": "stream",
          "name": "stdout",
          "text": [
            "Path:  30.384776310850242\n",
            "Smoothness:  35.0\n",
            "fitnes Total:  0.03204326019201864\n"
          ]
        }
      ]
    },
    {
      "cell_type": "code",
      "source": [
        "experimento(mapa3,[50,50],[0,2499])"
      ],
      "metadata": {
        "colab": {
          "base_uri": "https://localhost:8080/",
          "height": 1000
        },
        "id": "1n2BNR8MAiX0",
        "outputId": "31bc4a61-159e-4f0f-c21c-118ebe07d4b9"
      },
      "execution_count": 188,
      "outputs": [
        {
          "output_type": "stream",
          "name": "stdout",
          "text": [
            "Tiempo de generacion de poblacion inicial\n",
            "0:00:01.854366\n",
            "inicio MPMGA----------------------------\n",
            "Tiempo de MPMGA\n",
            "0:00:22.584882\n",
            "final MPMGA----------------------------\n",
            "inicio estandar----------------------------\n",
            "Tiempo de SGA\n",
            "0:00:07.126603\n"
          ]
        },
        {
          "output_type": "display_data",
          "data": {
            "image/png": "[encoded data removed]",
            "text/plain": [
              "<Figure size 432x288 with 1 Axes>"
            ]
          },
          "metadata": {
            "needs_background": "light"
          }
        },
        {
          "output_type": "display_data",
          "data": {
            "image/png": "[encoded data removed]",
            "text/plain": [
              "<Figure size 432x288 with 1 Axes>"
            ]
          },
          "metadata": {
            "needs_background": "light"
          }
        },
        {
          "output_type": "display_data",
          "data": {
            "image/png": "[encoded data removed]",
            "text/plain": [
              "<Figure size 432x288 with 1 Axes>"
            ]
          },
          "metadata": {
            "needs_background": "light"
          }
        },
        {
          "output_type": "stream",
          "name": "stdout",
          "text": [
            "RESULTADO MPMGA\n",
            "[(0, 0, 0, 1, 2, 3, 3, 3, 3, 3, 3, 4, 5, 6, 7, 8, 9, 10, 11, 12, 13, 14, 15, 16, 17, 18, 19, 20, 21, 22, 23, 24, 25, 26, 27, 28, 29, 30, 31, 32, 33, 34, 35, 36, 37, 38, 39, 40, 41, 42, 43, 44, 45, 46, 47, 48, 49), (0, 1, 2, 3, 4, 5, 6, 7, 8, 9, 10, 11, 12, 13, 14, 15, 16, 17, 18, 19, 20, 21, 22, 23, 24, 25, 26, 27, 28, 29, 30, 31, 32, 33, 34, 35, 36, 37, 38, 39, 40, 41, 42, 43, 44, 45, 46, 47, 47, 47, 47, 47, 47, 47, 47, 48, 49)]\n"
          ]
        },
        {
          "output_type": "display_data",
          "data": {
            "image/png": "[encoded data removed]",
            "text/plain": [
              "<Figure size 432x288 with 1 Axes>"
            ]
          },
          "metadata": {
            "needs_background": "light"
          }
        },
        {
          "output_type": "stream",
          "name": "stdout",
          "text": [
            "Path:  73.39696961966993\n",
            "Smoothness:  25.0\n",
            "fitnes Total:  0.018899632561745504\n",
            "RESULTADO SGA\n",
            "[(0, 0, 0, 0, 0, 0, 0, 1, 2, 3, 4, 5, 6, 7, 8, 9, 10, 11, 12, 13, 14, 15, 16, 17, 18, 19, 20, 21, 22, 23, 24, 25, 26, 27, 28, 29, 30, 31, 32, 33, 34, 35, 36, 37, 38, 39, 39, 40, 41, 42, 43, 44, 45, 46, 47, 48, 49), (0, 1, 2, 3, 4, 5, 6, 7, 8, 9, 10, 11, 12, 13, 14, 15, 16, 17, 18, 19, 20, 21, 22, 23, 24, 25, 26, 27, 28, 29, 30, 31, 32, 33, 34, 35, 36, 37, 38, 39, 40, 41, 42, 43, 44, 45, 46, 47, 47, 48, 48, 48, 48, 48, 48, 48, 49)]\n"
          ]
        },
        {
          "output_type": "display_data",
          "data": {
            "image/png": "[encoded data removed]",
            "text/plain": [
              "<Figure size 432x288 with 1 Axes>"
            ]
          },
          "metadata": {
            "needs_background": "light"
          }
        },
        {
          "output_type": "stream",
          "name": "stdout",
          "text": [
            "Path:  73.39696961966993\n",
            "Smoothness:  35.0\n",
            "fitnes Total:  0.01661391827603122\n"
          ]
        }
      ]
    },
    {
      "cell_type": "code",
      "source": [
        "!cat /proc/cpuinfo"
      ],
      "metadata": {
        "colab": {
          "base_uri": "https://localhost:8080/"
        },
        "id": "VUGuqPcvQaWn",
        "outputId": "36ca01f8-3644-40db-c6f3-8247ad454f9d"
      },
      "execution_count": 185,
      "outputs": [
        {
          "output_type": "stream",
          "name": "stdout",
          "text": [
            "processor\t: 0\n",
            "vendor_id\t: GenuineIntel\n",
            "cpu family\t: 6\n",
            "model\t\t: 79\n",
            "model name\t: Intel(R) Xeon(R) CPU @ 2.20GHz\n",
            "stepping\t: 0\n",
            "microcode\t: 0x1\n",
            "cpu MHz\t\t: 2199.998\n",
            "cache size\t: 56320 KB\n",
            "physical id\t: 0\n",
            "siblings\t: 2\n",
            "core id\t\t: 0\n",
            "cpu cores\t: 1\n",
            "apicid\t\t: 0\n",
            "initial apicid\t: 0\n",
            "fpu\t\t: yes\n",
            "fpu_exception\t: yes\n",
            "cpuid level\t: 13\n",
            "wp\t\t: yes\n",
            "flags\t\t: fpu vme de pse tsc msr pae mce cx8 apic sep mtrr pge mca cmov pat pse36 clflush mmx fxsr sse sse2 ss ht syscall nx pdpe1gb rdtscp lm constant_tsc rep_good nopl xtopology nonstop_tsc cpuid tsc_known_freq pni pclmulqdq ssse3 fma cx16 pcid sse4_1 sse4_2 x2apic movbe popcnt aes xsave avx f16c rdrand hypervisor lahf_lm abm 3dnowprefetch invpcid_single ssbd ibrs ibpb stibp fsgsbase tsc_adjust bmi1 hle avx2 smep bmi2 erms invpcid rtm rdseed adx smap xsaveopt arat md_clear arch_capabilities\n",
            "bugs\t\t: cpu_meltdown spectre_v1 spectre_v2 spec_store_bypass l1tf mds swapgs taa\n",
            "bogomips\t: 4399.99\n",
            "clflush size\t: 64\n",
            "cache_alignment\t: 64\n",
            "address sizes\t: 46 bits physical, 48 bits virtual\n",
            "power management:\n",
            "\n",
            "processor\t: 1\n",
            "vendor_id\t: GenuineIntel\n",
            "cpu family\t: 6\n",
            "model\t\t: 79\n",
            "model name\t: Intel(R) Xeon(R) CPU @ 2.20GHz\n",
            "stepping\t: 0\n",
            "microcode\t: 0x1\n",
            "cpu MHz\t\t: 2199.998\n",
            "cache size\t: 56320 KB\n",
            "physical id\t: 0\n",
            "siblings\t: 2\n",
            "core id\t\t: 0\n",
            "cpu cores\t: 1\n",
            "apicid\t\t: 1\n",
            "initial apicid\t: 1\n",
            "fpu\t\t: yes\n",
            "fpu_exception\t: yes\n",
            "cpuid level\t: 13\n",
            "wp\t\t: yes\n",
            "flags\t\t: fpu vme de pse tsc msr pae mce cx8 apic sep mtrr pge mca cmov pat pse36 clflush mmx fxsr sse sse2 ss ht syscall nx pdpe1gb rdtscp lm constant_tsc rep_good nopl xtopology nonstop_tsc cpuid tsc_known_freq pni pclmulqdq ssse3 fma cx16 pcid sse4_1 sse4_2 x2apic movbe popcnt aes xsave avx f16c rdrand hypervisor lahf_lm abm 3dnowprefetch invpcid_single ssbd ibrs ibpb stibp fsgsbase tsc_adjust bmi1 hle avx2 smep bmi2 erms invpcid rtm rdseed adx smap xsaveopt arat md_clear arch_capabilities\n",
            "bugs\t\t: cpu_meltdown spectre_v1 spectre_v2 spec_store_bypass l1tf mds swapgs taa\n",
            "bogomips\t: 4399.99\n",
            "clflush size\t: 64\n",
            "cache_alignment\t: 64\n",
            "address sizes\t: 46 bits physical, 48 bits virtual\n",
            "power management:\n",
            "\n"
          ]
        }
      ]
    },
    {
      "cell_type": "code",
      "source": [
        "!cat /proc/meminfo"
      ],
      "metadata": {
        "colab": {
          "base_uri": "https://localhost:8080/"
        },
        "id": "8tDX76GdQcT4",
        "outputId": "2f4f2095-00f6-428a-f3c5-98da3ab365ff"
      },
      "execution_count": 186,
      "outputs": [
        {
          "output_type": "stream",
          "name": "stdout",
          "text": [
            "MemTotal:       13302920 kB\n",
            "MemFree:        10213480 kB\n",
            "MemAvailable:   12056880 kB\n",
            "Buffers:          123124 kB\n",
            "Cached:          1784180 kB\n",
            "SwapCached:            0 kB\n",
            "Active:          1416332 kB\n",
            "Inactive:        1448100 kB\n",
            "Active(anon):     836624 kB\n",
            "Inactive(anon):      456 kB\n",
            "Active(file):     579708 kB\n",
            "Inactive(file):  1447644 kB\n",
            "Unevictable:           0 kB\n",
            "Mlocked:               0 kB\n",
            "SwapTotal:             0 kB\n",
            "SwapFree:              0 kB\n",
            "Dirty:               584 kB\n",
            "Writeback:             0 kB\n",
            "AnonPages:        957092 kB\n",
            "Mapped:           270692 kB\n",
            "Shmem:              1168 kB\n",
            "KReclaimable:     115044 kB\n",
            "Slab:             158824 kB\n",
            "SReclaimable:     115044 kB\n",
            "SUnreclaim:        43780 kB\n",
            "KernelStack:        4784 kB\n",
            "PageTables:        12944 kB\n",
            "NFS_Unstable:          0 kB\n",
            "Bounce:                0 kB\n",
            "WritebackTmp:          0 kB\n",
            "CommitLimit:     6651460 kB\n",
            "Committed_AS:    3254164 kB\n",
            "VmallocTotal:   34359738367 kB\n",
            "VmallocUsed:        7152 kB\n",
            "VmallocChunk:          0 kB\n",
            "Percpu:             1424 kB\n",
            "AnonHugePages:      2048 kB\n",
            "ShmemHugePages:        0 kB\n",
            "ShmemPmdMapped:        0 kB\n",
            "FileHugePages:         0 kB\n",
            "FilePmdMapped:         0 kB\n",
            "CmaTotal:              0 kB\n",
            "CmaFree:               0 kB\n",
            "HugePages_Total:       0\n",
            "HugePages_Free:        0\n",
            "HugePages_Rsvd:        0\n",
            "HugePages_Surp:        0\n",
            "Hugepagesize:       2048 kB\n",
            "Hugetlb:               0 kB\n",
            "DirectMap4k:       92992 kB\n",
            "DirectMap2M:     5146624 kB\n",
            "DirectMap1G:    10485760 kB\n"
          ]
        }
      ]
    },
    {
      "cell_type": "code",
      "source": [
        "!python --version"
      ],
      "metadata": {
        "colab": {
          "base_uri": "https://localhost:8080/"
        },
        "id": "q_gvG3S4RWeO",
        "outputId": "ab28739f-72b6-4c3b-b93f-a5121ea9dfc4"
      },
      "execution_count": 187,
      "outputs": [
        {
          "output_type": "stream",
          "name": "stdout",
          "text": [
            "Python 3.7.12\n"
          ]
        }
      ]
    }
  ]
}